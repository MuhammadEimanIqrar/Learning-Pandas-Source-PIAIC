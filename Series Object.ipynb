{
 "cells": [
  {
   "cell_type": "code",
   "execution_count": 2,
   "id": "657b7399",
   "metadata": {},
   "outputs": [],
   "source": [
    "import pandas as pd"
   ]
  },
  {
   "cell_type": "code",
   "execution_count": 3,
   "id": "42f602eb",
   "metadata": {},
   "outputs": [],
   "source": [
    "obj = pd.Series([4,1,-5,3])"
   ]
  },
  {
   "cell_type": "code",
   "execution_count": 4,
   "id": "e98a1a08",
   "metadata": {},
   "outputs": [
    {
     "data": {
      "text/plain": [
       "0    4\n",
       "1    1\n",
       "2   -5\n",
       "3    3\n",
       "dtype: int64"
      ]
     },
     "execution_count": 4,
     "metadata": {},
     "output_type": "execute_result"
    }
   ],
   "source": [
    "obj"
   ]
  },
  {
   "cell_type": "code",
   "execution_count": 5,
   "id": "d88532ed",
   "metadata": {},
   "outputs": [
    {
     "data": {
      "text/plain": [
       "array([ 4,  1, -5,  3], dtype=int64)"
      ]
     },
     "execution_count": 5,
     "metadata": {},
     "output_type": "execute_result"
    }
   ],
   "source": [
    "obj.values"
   ]
  },
  {
   "cell_type": "code",
   "execution_count": 6,
   "id": "b1fa18ab",
   "metadata": {},
   "outputs": [
    {
     "data": {
      "text/plain": [
       "RangeIndex(start=0, stop=4, step=1)"
      ]
     },
     "execution_count": 6,
     "metadata": {},
     "output_type": "execute_result"
    }
   ],
   "source": [
    "obj.index"
   ]
  },
  {
   "cell_type": "code",
   "execution_count": 8,
   "id": "ec3e90d4",
   "metadata": {},
   "outputs": [
    {
     "data": {
      "text/plain": [
       "Jan    100\n",
       "Feb    200\n",
       "Mar    500\n",
       "Apr     50\n",
       "dtype: int64"
      ]
     },
     "execution_count": 8,
     "metadata": {},
     "output_type": "execute_result"
    }
   ],
   "source": [
    "sales = pd.Series([100,200,500,50], index = ['Jan', 'Feb', 'Mar', 'Apr'])\n",
    "sales"
   ]
  },
  {
   "cell_type": "code",
   "execution_count": 9,
   "id": "792a6f05",
   "metadata": {},
   "outputs": [
    {
     "data": {
      "text/plain": [
       "Jan    100\n",
       "Feb    200\n",
       "Mar    500\n",
       "Apr     50\n",
       "Name: 4 Months Sales, dtype: int64"
      ]
     },
     "execution_count": 9,
     "metadata": {},
     "output_type": "execute_result"
    }
   ],
   "source": [
    "sales = pd.Series([100,200,500,50], index = ['Jan', 'Feb', 'Mar', 'Apr'], name = \"4 Months Sales\")\n",
    "sales"
   ]
  },
  {
   "cell_type": "code",
   "execution_count": 11,
   "id": "4bd60949",
   "metadata": {},
   "outputs": [
    {
     "data": {
      "text/plain": [
       "Mon    30\n",
       "Tue    41\n",
       "Wed    25\n",
       "Thu    53\n",
       "Fri    80\n",
       "Sat     0\n",
       "Sun     0\n",
       "Name: One Week Sandwicthes Sale Data, dtype: int64"
      ]
     },
     "execution_count": 11,
     "metadata": {},
     "output_type": "execute_result"
    }
   ],
   "source": [
    "canteen = pd.Series([30,41,25,53,80,0,0], index = ['Mon', 'Tue', 'Wed', 'Thu', 'Fri', 'Sat', 'Sun'], name = 'One Week Sandwicthes Sale Data')\n",
    "canteen"
   ]
  },
  {
   "cell_type": "code",
   "execution_count": 12,
   "id": "54dc11a9",
   "metadata": {},
   "outputs": [
    {
     "data": {
      "text/plain": [
       "41"
      ]
     },
     "execution_count": 12,
     "metadata": {},
     "output_type": "execute_result"
    }
   ],
   "source": [
    "canteen[1]"
   ]
  },
  {
   "cell_type": "code",
   "execution_count": 15,
   "id": "13cc3b96",
   "metadata": {},
   "outputs": [
    {
     "data": {
      "text/plain": [
       "41"
      ]
     },
     "execution_count": 15,
     "metadata": {},
     "output_type": "execute_result"
    }
   ],
   "source": [
    "canteen[\"Tue\"]"
   ]
  },
  {
   "cell_type": "code",
   "execution_count": 16,
   "id": "cb9e4880",
   "metadata": {},
   "outputs": [
    {
     "data": {
      "text/plain": [
       "Thu    53\n",
       "Sat     0\n",
       "Name: One Week Sandwicthes Sale Data, dtype: int64"
      ]
     },
     "execution_count": 16,
     "metadata": {},
     "output_type": "execute_result"
    }
   ],
   "source": [
    "canteen[[3,5]]"
   ]
  },
  {
   "cell_type": "code",
   "execution_count": 17,
   "id": "7809a954",
   "metadata": {},
   "outputs": [
    {
     "data": {
      "text/plain": [
       "Tue    41\n",
       "Thu    53\n",
       "Name: One Week Sandwicthes Sale Data, dtype: int64"
      ]
     },
     "execution_count": 17,
     "metadata": {},
     "output_type": "execute_result"
    }
   ],
   "source": [
    "canteen[['Tue','Thu']]"
   ]
  },
  {
   "cell_type": "code",
   "execution_count": 18,
   "id": "eb8af817",
   "metadata": {},
   "outputs": [
    {
     "data": {
      "text/plain": [
       "Tue    41\n",
       "Thu    53\n",
       "Fri    80\n",
       "Name: One Week Sandwicthes Sale Data, dtype: int64"
      ]
     },
     "execution_count": 18,
     "metadata": {},
     "output_type": "execute_result"
    }
   ],
   "source": [
    "canteen[canteen > 40]"
   ]
  },
  {
   "cell_type": "code",
   "execution_count": 19,
   "id": "716d850e",
   "metadata": {},
   "outputs": [
    {
     "data": {
      "text/plain": [
       "Mon     60\n",
       "Tue     82\n",
       "Wed     50\n",
       "Thu    106\n",
       "Fri    160\n",
       "Sat      0\n",
       "Sun      0\n",
       "Name: One Week Sandwicthes Sale Data, dtype: int64"
      ]
     },
     "execution_count": 19,
     "metadata": {},
     "output_type": "execute_result"
    }
   ],
   "source": [
    "canteen * 2"
   ]
  },
  {
   "cell_type": "code",
   "execution_count": 20,
   "id": "4b435cc7",
   "metadata": {},
   "outputs": [
    {
     "data": {
      "text/plain": [
       "Mon    30\n",
       "Tue    41\n",
       "Wed    25\n",
       "Thu    53\n",
       "Fri    80\n",
       "Sat     0\n",
       "Sun     0\n",
       "Name: One Week Sandwicthes Sale Data, dtype: int64"
      ]
     },
     "execution_count": 20,
     "metadata": {},
     "output_type": "execute_result"
    }
   ],
   "source": [
    "canteen"
   ]
  },
  {
   "cell_type": "code",
   "execution_count": 21,
   "id": "fa783bc9",
   "metadata": {},
   "outputs": [
    {
     "data": {
      "text/plain": [
       "Mon     60\n",
       "Tue     82\n",
       "Wed     50\n",
       "Thu    106\n",
       "Fri    160\n",
       "Sat      0\n",
       "Sun      0\n",
       "Name: One Week Sandwicthes Sale Data, dtype: int64"
      ]
     },
     "execution_count": 21,
     "metadata": {},
     "output_type": "execute_result"
    }
   ],
   "source": [
    "canteen = canteen * 2\n",
    "canteen"
   ]
  },
  {
   "cell_type": "code",
   "execution_count": 22,
   "id": "2d620cbd",
   "metadata": {},
   "outputs": [
    {
     "data": {
      "text/plain": [
       "Mon    30.0\n",
       "Tue    41.0\n",
       "Wed    25.0\n",
       "Thu    53.0\n",
       "Fri    80.0\n",
       "Sat     0.0\n",
       "Sun     0.0\n",
       "Name: One Week Sandwicthes Sale Data, dtype: float64"
      ]
     },
     "execution_count": 22,
     "metadata": {},
     "output_type": "execute_result"
    }
   ],
   "source": [
    "canteen = canteen / 2\n",
    "canteen"
   ]
  },
  {
   "cell_type": "code",
   "execution_count": 23,
   "id": "02bae909",
   "metadata": {},
   "outputs": [
    {
     "data": {
      "text/plain": [
       "True"
      ]
     },
     "execution_count": 23,
     "metadata": {},
     "output_type": "execute_result"
    }
   ],
   "source": [
    "'Wed' in canteen"
   ]
  },
  {
   "cell_type": "code",
   "execution_count": 24,
   "id": "abb222cf",
   "metadata": {},
   "outputs": [],
   "source": [
    "import numpy as np"
   ]
  },
  {
   "cell_type": "code",
   "execution_count": 32,
   "id": "179d9689",
   "metadata": {},
   "outputs": [
    {
     "data": {
      "text/plain": [
       "week1    1000\n",
       "week2     555\n",
       "week3     600\n",
       "week4     425\n",
       "Name: One Month Sales Data of a Canteen, dtype: int32"
      ]
     },
     "execution_count": 32,
     "metadata": {},
     "output_type": "execute_result"
    }
   ],
   "source": [
    "arr = np.array([1000,555,600,425])\n",
    "ind = np.array(['week1', 'week2', 'week3', 'week4'])\n",
    "\n",
    "monthly = pd.Series(arr, index = ind, name = \"One Month Sales Data of a Canteen\")\n",
    "monthly"
   ]
  },
  {
   "cell_type": "code",
   "execution_count": 34,
   "id": "0ae5c2cf",
   "metadata": {},
   "outputs": [
    {
     "data": {
      "text/plain": [
       "Sindh               50000\n",
       "Punjab              45000\n",
       "KPK                 35000\n",
       "Balochistan         38000\n",
       "Gilgit Baltistan    20000\n",
       "Name: Taxes Paid in a year by a State, dtype: int64"
      ]
     },
     "execution_count": 34,
     "metadata": {},
     "output_type": "execute_result"
    }
   ],
   "source": [
    "stateData = {'Sindh': 50000, 'Punjab': 45000, 'KPK': 35000, 'Balochistan': 38000, 'Gilgit Baltistan': 20000}\n",
    "taxes = pd.Series(stateData, name = 'Taxes Paid in a year by a State')\n",
    "taxes"
   ]
  },
  {
   "cell_type": "code",
   "execution_count": 37,
   "id": "e01a7fb1",
   "metadata": {},
   "outputs": [
    {
     "data": {
      "text/plain": [
       "Punjab              45000\n",
       "Sindh               50000\n",
       "Balochistan         38000\n",
       "KPK                 35000\n",
       "Gilgit Baltistan    20000\n",
       "Name: Taxes Paid in a year by a State, dtype: int64"
      ]
     },
     "execution_count": 37,
     "metadata": {},
     "output_type": "execute_result"
    }
   ],
   "source": [
    "taxes_ordered = pd.Series(stateData, index = ['Punjab', 'Sindh', 'Balochistan', 'KPK', 'Gilgit Baltistan'], name = 'Taxes Paid in a year by a State')\n",
    "taxes_ordered"
   ]
  },
  {
   "cell_type": "code",
   "execution_count": 43,
   "id": "a0567321",
   "metadata": {},
   "outputs": [
    {
     "name": "stdout",
     "output_type": "stream",
     "text": [
      "Punjab         45000.0\n",
      "Sindh          50000.0\n",
      "Balochistan    38000.0\n",
      "KPK            35000.0\n",
      "GB                 NaN\n",
      "Name: Taxes Paid in a year by a State, dtype: float64\n",
      "Punjab         False\n",
      "Sindh          False\n",
      "Balochistan    False\n",
      "KPK            False\n",
      "GB              True\n",
      "Name: Taxes Paid in a year by a State, dtype: bool\n"
     ]
    }
   ],
   "source": [
    "taxes_null = pd.Series(stateData, index = ['Punjab', 'Sindh', 'Balochistan', 'KPK', 'GB'], name = 'Taxes Paid in a year by a State')\n",
    "print(taxes_null)\n",
    "pd.isnull(taxes_null)"
   ]
  },
  {
   "cell_type": "code",
   "execution_count": 44,
   "id": "e0430116",
   "metadata": {},
   "outputs": [
    {
     "data": {
      "text/plain": [
       "Punjab         False\n",
       "Sindh          False\n",
       "Balochistan    False\n",
       "KPK            False\n",
       "GB              True\n",
       "Name: Taxes Paid in a year by a State, dtype: bool"
      ]
     },
     "execution_count": 44,
     "metadata": {},
     "output_type": "execute_result"
    }
   ],
   "source": [
    "taxes_null.isnull()"
   ]
  },
  {
   "cell_type": "code",
   "execution_count": 46,
   "id": "b95421d1",
   "metadata": {},
   "outputs": [
    {
     "data": {
      "text/plain": [
       "States\n",
       "Sindh               50000\n",
       "Punjab              45000\n",
       "KPK                 35000\n",
       "Balochistan         38000\n",
       "Gilgit Baltistan    20000\n",
       "Name: Taxes Paid in a year by a State, dtype: int64"
      ]
     },
     "execution_count": 46,
     "metadata": {},
     "output_type": "execute_result"
    }
   ],
   "source": [
    "index_name = taxes\n",
    "index_name.index.name = \"States\"\n",
    "index_name"
   ]
  },
  {
   "cell_type": "code",
   "execution_count": 47,
   "id": "b5829717",
   "metadata": {},
   "outputs": [
    {
     "data": {
      "text/plain": [
       "Mon    30.0\n",
       "Tue    41.0\n",
       "Wed    25.0\n",
       "Thu    53.0\n",
       "Fri    80.0\n",
       "Sat     0.0\n",
       "Sun     0.0\n",
       "Name: One Week Sandwicthes Sale Data, dtype: float64"
      ]
     },
     "execution_count": 47,
     "metadata": {},
     "output_type": "execute_result"
    }
   ],
   "source": [
    "canteen"
   ]
  },
  {
   "cell_type": "code",
   "execution_count": 48,
   "id": "cae5b942",
   "metadata": {},
   "outputs": [
    {
     "data": {
      "text/plain": [
       "m    30.0\n",
       "t    41.0\n",
       "w    25.0\n",
       "t    53.0\n",
       "f    80.0\n",
       "s     0.0\n",
       "s     0.0\n",
       "Name: One Week Sandwicthes Sale Data, dtype: float64"
      ]
     },
     "execution_count": 48,
     "metadata": {},
     "output_type": "execute_result"
    }
   ],
   "source": [
    "canteen.index = ['m','t','w','t','f','s','s'];\n",
    "canteen"
   ]
  },
  {
   "cell_type": "code",
   "execution_count": null,
   "id": "0f1d2c81",
   "metadata": {},
   "outputs": [],
   "source": []
  }
 ],
 "metadata": {
  "kernelspec": {
   "display_name": "Python 3 (ipykernel)",
   "language": "python",
   "name": "python3"
  },
  "language_info": {
   "codemirror_mode": {
    "name": "ipython",
    "version": 3
   },
   "file_extension": ".py",
   "mimetype": "text/x-python",
   "name": "python",
   "nbconvert_exporter": "python",
   "pygments_lexer": "ipython3",
   "version": "3.9.7"
  }
 },
 "nbformat": 4,
 "nbformat_minor": 5
}
