{
 "cells": [
  {
   "cell_type": "code",
   "execution_count": 1,
   "id": "e59058ac",
   "metadata": {},
   "outputs": [],
   "source": [
    "import pandas as pd"
   ]
  },
  {
   "cell_type": "code",
   "execution_count": 3,
   "id": "fca15efe",
   "metadata": {},
   "outputs": [
    {
     "name": "stdout",
     "output_type": "stream",
     "text": [
      "0    9\n",
      "1    3\n",
      "2    5\n",
      "3    1\n",
      "dtype: int64\n"
     ]
    },
    {
     "data": {
      "text/plain": [
       "0    2\n",
       "1    6\n",
       "2    3\n",
       "3    0\n",
       "dtype: int64"
      ]
     },
     "execution_count": 3,
     "metadata": {},
     "output_type": "execute_result"
    }
   ],
   "source": [
    "apples = pd.Series([9,3,5,1])\n",
    "oranges = pd.Series([2,6,3,0])\n",
    "\n",
    "print(apples)\n",
    "oranges"
   ]
  },
  {
   "cell_type": "markdown",
   "id": "ca096a64",
   "metadata": {},
   "source": [
    "# Storing Data in DataFrame"
   ]
  },
  {
   "cell_type": "code",
   "execution_count": 4,
   "id": "cd7d8bf3",
   "metadata": {},
   "outputs": [
    {
     "data": {
      "text/html": [
       "<div>\n",
       "<style scoped>\n",
       "    .dataframe tbody tr th:only-of-type {\n",
       "        vertical-align: middle;\n",
       "    }\n",
       "\n",
       "    .dataframe tbody tr th {\n",
       "        vertical-align: top;\n",
       "    }\n",
       "\n",
       "    .dataframe thead th {\n",
       "        text-align: right;\n",
       "    }\n",
       "</style>\n",
       "<table border=\"1\" class=\"dataframe\">\n",
       "  <thead>\n",
       "    <tr style=\"text-align: right;\">\n",
       "      <th></th>\n",
       "      <th>apples</th>\n",
       "      <th>oranges</th>\n",
       "    </tr>\n",
       "  </thead>\n",
       "  <tbody>\n",
       "    <tr>\n",
       "      <th>0</th>\n",
       "      <td>9</td>\n",
       "      <td>2</td>\n",
       "    </tr>\n",
       "    <tr>\n",
       "      <th>1</th>\n",
       "      <td>3</td>\n",
       "      <td>6</td>\n",
       "    </tr>\n",
       "    <tr>\n",
       "      <th>2</th>\n",
       "      <td>5</td>\n",
       "      <td>3</td>\n",
       "    </tr>\n",
       "    <tr>\n",
       "      <th>3</th>\n",
       "      <td>1</td>\n",
       "      <td>0</td>\n",
       "    </tr>\n",
       "  </tbody>\n",
       "</table>\n",
       "</div>"
      ],
      "text/plain": [
       "   apples  oranges\n",
       "0       9        2\n",
       "1       3        6\n",
       "2       5        3\n",
       "3       1        0"
      ]
     },
     "execution_count": 4,
     "metadata": {},
     "output_type": "execute_result"
    }
   ],
   "source": [
    "data = {'apples': apples, 'oranges': oranges}\n",
    "fruits_df = pd.DataFrame(data)\n",
    "\n",
    "fruits_df"
   ]
  },
  {
   "cell_type": "code",
   "execution_count": 22,
   "id": "c6ef0981",
   "metadata": {},
   "outputs": [
    {
     "data": {
      "text/html": [
       "<div>\n",
       "<style scoped>\n",
       "    .dataframe tbody tr th:only-of-type {\n",
       "        vertical-align: middle;\n",
       "    }\n",
       "\n",
       "    .dataframe tbody tr th {\n",
       "        vertical-align: top;\n",
       "    }\n",
       "\n",
       "    .dataframe thead th {\n",
       "        text-align: right;\n",
       "    }\n",
       "</style>\n",
       "<table border=\"1\" class=\"dataframe\">\n",
       "  <thead>\n",
       "    <tr style=\"text-align: right;\">\n",
       "      <th></th>\n",
       "      <th>State</th>\n",
       "      <th>Year</th>\n",
       "      <th>Population</th>\n",
       "    </tr>\n",
       "  </thead>\n",
       "  <tbody>\n",
       "    <tr>\n",
       "      <th>0</th>\n",
       "      <td>Sindh</td>\n",
       "      <td>2000</td>\n",
       "      <td>1.4</td>\n",
       "    </tr>\n",
       "    <tr>\n",
       "      <th>1</th>\n",
       "      <td>Sindh</td>\n",
       "      <td>2001</td>\n",
       "      <td>1.5</td>\n",
       "    </tr>\n",
       "    <tr>\n",
       "      <th>2</th>\n",
       "      <td>Sindh</td>\n",
       "      <td>2002</td>\n",
       "      <td>1.8</td>\n",
       "    </tr>\n",
       "    <tr>\n",
       "      <th>3</th>\n",
       "      <td>Punjab</td>\n",
       "      <td>2000</td>\n",
       "      <td>1.0</td>\n",
       "    </tr>\n",
       "    <tr>\n",
       "      <th>4</th>\n",
       "      <td>Punjab</td>\n",
       "      <td>2001</td>\n",
       "      <td>1.9</td>\n",
       "    </tr>\n",
       "    <tr>\n",
       "      <th>5</th>\n",
       "      <td>Punjab</td>\n",
       "      <td>2002</td>\n",
       "      <td>2.0</td>\n",
       "    </tr>\n",
       "  </tbody>\n",
       "</table>\n",
       "</div>"
      ],
      "text/plain": [
       "    State  Year  Population\n",
       "0   Sindh  2000         1.4\n",
       "1   Sindh  2001         1.5\n",
       "2   Sindh  2002         1.8\n",
       "3  Punjab  2000         1.0\n",
       "4  Punjab  2001         1.9\n",
       "5  Punjab  2002         2.0"
      ]
     },
     "execution_count": 22,
     "metadata": {},
     "output_type": "execute_result"
    }
   ],
   "source": [
    "states = ['Sindh', 'Sindh', 'Sindh', 'Punjab', 'Punjab', 'Punjab']\n",
    "years = [2000, 2001, 2002, 2000, 2001, 2002]\n",
    "population = [1.4, 1.5, 1.8, 1, 1.9, 2]\n",
    "\n",
    "population_data = {'State': states, 'Year': years, 'Population': population}\n",
    "population_df = pd.DataFrame(population_data)\n",
    "\n",
    "population_df"
   ]
  },
  {
   "cell_type": "code",
   "execution_count": 17,
   "id": "603cb4b5",
   "metadata": {},
   "outputs": [
    {
     "data": {
      "text/html": [
       "<div>\n",
       "<style scoped>\n",
       "    .dataframe tbody tr th:only-of-type {\n",
       "        vertical-align: middle;\n",
       "    }\n",
       "\n",
       "    .dataframe tbody tr th {\n",
       "        vertical-align: top;\n",
       "    }\n",
       "\n",
       "    .dataframe thead th {\n",
       "        text-align: right;\n",
       "    }\n",
       "</style>\n",
       "<table border=\"1\" class=\"dataframe\">\n",
       "  <thead>\n",
       "    <tr style=\"text-align: right;\">\n",
       "      <th></th>\n",
       "      <th>State</th>\n",
       "      <th>Year</th>\n",
       "      <th>Population</th>\n",
       "    </tr>\n",
       "  </thead>\n",
       "  <tbody>\n",
       "    <tr>\n",
       "      <th>1st</th>\n",
       "      <td>Sindh</td>\n",
       "      <td>2000</td>\n",
       "      <td>1.4</td>\n",
       "    </tr>\n",
       "    <tr>\n",
       "      <th>2nd</th>\n",
       "      <td>Sindh</td>\n",
       "      <td>2001</td>\n",
       "      <td>1.5</td>\n",
       "    </tr>\n",
       "    <tr>\n",
       "      <th>3rd</th>\n",
       "      <td>Sindh</td>\n",
       "      <td>2002</td>\n",
       "      <td>1.8</td>\n",
       "    </tr>\n",
       "    <tr>\n",
       "      <th>4th</th>\n",
       "      <td>Punjab</td>\n",
       "      <td>2000</td>\n",
       "      <td>1.0</td>\n",
       "    </tr>\n",
       "    <tr>\n",
       "      <th>5th</th>\n",
       "      <td>Punjab</td>\n",
       "      <td>2001</td>\n",
       "      <td>1.9</td>\n",
       "    </tr>\n",
       "    <tr>\n",
       "      <th>6th</th>\n",
       "      <td>Punjab</td>\n",
       "      <td>2002</td>\n",
       "      <td>2.0</td>\n",
       "    </tr>\n",
       "  </tbody>\n",
       "</table>\n",
       "</div>"
      ],
      "text/plain": [
       "      State  Year  Population\n",
       "1st   Sindh  2000         1.4\n",
       "2nd   Sindh  2001         1.5\n",
       "3rd   Sindh  2002         1.8\n",
       "4th  Punjab  2000         1.0\n",
       "5th  Punjab  2001         1.9\n",
       "6th  Punjab  2002         2.0"
      ]
     },
     "execution_count": 17,
     "metadata": {},
     "output_type": "execute_result"
    }
   ],
   "source": [
    "population_df.index = ['1st', '2nd', '3rd', '4th', '5th', '6th']\n",
    "population_df"
   ]
  },
  {
   "cell_type": "code",
   "execution_count": 18,
   "id": "f2e1660a",
   "metadata": {},
   "outputs": [
    {
     "data": {
      "text/html": [
       "<div>\n",
       "<style scoped>\n",
       "    .dataframe tbody tr th:only-of-type {\n",
       "        vertical-align: middle;\n",
       "    }\n",
       "\n",
       "    .dataframe tbody tr th {\n",
       "        vertical-align: top;\n",
       "    }\n",
       "\n",
       "    .dataframe thead th {\n",
       "        text-align: right;\n",
       "    }\n",
       "</style>\n",
       "<table border=\"1\" class=\"dataframe\">\n",
       "  <thead>\n",
       "    <tr style=\"text-align: right;\">\n",
       "      <th></th>\n",
       "      <th>State</th>\n",
       "      <th>Year</th>\n",
       "      <th>Population</th>\n",
       "    </tr>\n",
       "  </thead>\n",
       "  <tbody>\n",
       "    <tr>\n",
       "      <th>1st</th>\n",
       "      <td>Sindh</td>\n",
       "      <td>2000</td>\n",
       "      <td>1.4</td>\n",
       "    </tr>\n",
       "    <tr>\n",
       "      <th>2nd</th>\n",
       "      <td>Sindh</td>\n",
       "      <td>2001</td>\n",
       "      <td>1.5</td>\n",
       "    </tr>\n",
       "    <tr>\n",
       "      <th>3rd</th>\n",
       "      <td>Sindh</td>\n",
       "      <td>2002</td>\n",
       "      <td>1.8</td>\n",
       "    </tr>\n",
       "    <tr>\n",
       "      <th>4th</th>\n",
       "      <td>Punjab</td>\n",
       "      <td>2000</td>\n",
       "      <td>1.0</td>\n",
       "    </tr>\n",
       "    <tr>\n",
       "      <th>5th</th>\n",
       "      <td>Punjab</td>\n",
       "      <td>2001</td>\n",
       "      <td>1.9</td>\n",
       "    </tr>\n",
       "  </tbody>\n",
       "</table>\n",
       "</div>"
      ],
      "text/plain": [
       "      State  Year  Population\n",
       "1st   Sindh  2000         1.4\n",
       "2nd   Sindh  2001         1.5\n",
       "3rd   Sindh  2002         1.8\n",
       "4th  Punjab  2000         1.0\n",
       "5th  Punjab  2001         1.9"
      ]
     },
     "execution_count": 18,
     "metadata": {},
     "output_type": "execute_result"
    }
   ],
   "source": [
    "population_df.head() # This Method returns top 5 rows from DataFrame"
   ]
  },
  {
   "cell_type": "code",
   "execution_count": 7,
   "id": "e6f36c48",
   "metadata": {},
   "outputs": [
    {
     "data": {
      "text/html": [
       "<div>\n",
       "<style scoped>\n",
       "    .dataframe tbody tr th:only-of-type {\n",
       "        vertical-align: middle;\n",
       "    }\n",
       "\n",
       "    .dataframe tbody tr th {\n",
       "        vertical-align: top;\n",
       "    }\n",
       "\n",
       "    .dataframe thead th {\n",
       "        text-align: right;\n",
       "    }\n",
       "</style>\n",
       "<table border=\"1\" class=\"dataframe\">\n",
       "  <thead>\n",
       "    <tr style=\"text-align: right;\">\n",
       "      <th></th>\n",
       "      <th>Year</th>\n",
       "      <th>State</th>\n",
       "      <th>Population</th>\n",
       "    </tr>\n",
       "  </thead>\n",
       "  <tbody>\n",
       "    <tr>\n",
       "      <th>0</th>\n",
       "      <td>2000</td>\n",
       "      <td>Sindh</td>\n",
       "      <td>1.4</td>\n",
       "    </tr>\n",
       "    <tr>\n",
       "      <th>1</th>\n",
       "      <td>2001</td>\n",
       "      <td>Sindh</td>\n",
       "      <td>1.5</td>\n",
       "    </tr>\n",
       "    <tr>\n",
       "      <th>2</th>\n",
       "      <td>2002</td>\n",
       "      <td>Sindh</td>\n",
       "      <td>1.8</td>\n",
       "    </tr>\n",
       "    <tr>\n",
       "      <th>3</th>\n",
       "      <td>2000</td>\n",
       "      <td>Punjab</td>\n",
       "      <td>1.0</td>\n",
       "    </tr>\n",
       "    <tr>\n",
       "      <th>4</th>\n",
       "      <td>2001</td>\n",
       "      <td>Punjab</td>\n",
       "      <td>1.9</td>\n",
       "    </tr>\n",
       "    <tr>\n",
       "      <th>5</th>\n",
       "      <td>2002</td>\n",
       "      <td>Punjab</td>\n",
       "      <td>2.0</td>\n",
       "    </tr>\n",
       "  </tbody>\n",
       "</table>\n",
       "</div>"
      ],
      "text/plain": [
       "   Year   State  Population\n",
       "0  2000   Sindh         1.4\n",
       "1  2001   Sindh         1.5\n",
       "2  2002   Sindh         1.8\n",
       "3  2000  Punjab         1.0\n",
       "4  2001  Punjab         1.9\n",
       "5  2002  Punjab         2.0"
      ]
     },
     "execution_count": 7,
     "metadata": {},
     "output_type": "execute_result"
    }
   ],
   "source": [
    "# Column Arrangment\n",
    "populationCol_df = pd.DataFrame(population_data, columns = ['Year', 'State', 'Population'])\n",
    "\n",
    "populationCol_df"
   ]
  },
  {
   "cell_type": "code",
   "execution_count": 15,
   "id": "b62024f4",
   "metadata": {},
   "outputs": [
    {
     "data": {
      "text/html": [
       "<div>\n",
       "<style scoped>\n",
       "    .dataframe tbody tr th:only-of-type {\n",
       "        vertical-align: middle;\n",
       "    }\n",
       "\n",
       "    .dataframe tbody tr th {\n",
       "        vertical-align: top;\n",
       "    }\n",
       "\n",
       "    .dataframe thead th {\n",
       "        text-align: right;\n",
       "    }\n",
       "</style>\n",
       "<table border=\"1\" class=\"dataframe\">\n",
       "  <thead>\n",
       "    <tr style=\"text-align: right;\">\n",
       "      <th></th>\n",
       "      <th>Year</th>\n",
       "      <th>State</th>\n",
       "      <th>Population</th>\n",
       "      <th>Debt</th>\n",
       "    </tr>\n",
       "  </thead>\n",
       "  <tbody>\n",
       "    <tr>\n",
       "      <th>0</th>\n",
       "      <td>2000</td>\n",
       "      <td>Sindh</td>\n",
       "      <td>1.4</td>\n",
       "      <td>NaN</td>\n",
       "    </tr>\n",
       "    <tr>\n",
       "      <th>1</th>\n",
       "      <td>2001</td>\n",
       "      <td>Sindh</td>\n",
       "      <td>1.5</td>\n",
       "      <td>NaN</td>\n",
       "    </tr>\n",
       "    <tr>\n",
       "      <th>2</th>\n",
       "      <td>2002</td>\n",
       "      <td>Sindh</td>\n",
       "      <td>1.8</td>\n",
       "      <td>NaN</td>\n",
       "    </tr>\n",
       "    <tr>\n",
       "      <th>3</th>\n",
       "      <td>2000</td>\n",
       "      <td>Punjab</td>\n",
       "      <td>1.0</td>\n",
       "      <td>NaN</td>\n",
       "    </tr>\n",
       "    <tr>\n",
       "      <th>4</th>\n",
       "      <td>2001</td>\n",
       "      <td>Punjab</td>\n",
       "      <td>1.9</td>\n",
       "      <td>NaN</td>\n",
       "    </tr>\n",
       "    <tr>\n",
       "      <th>5</th>\n",
       "      <td>2002</td>\n",
       "      <td>Punjab</td>\n",
       "      <td>2.0</td>\n",
       "      <td>NaN</td>\n",
       "    </tr>\n",
       "  </tbody>\n",
       "</table>\n",
       "</div>"
      ],
      "text/plain": [
       "   Year   State  Population Debt\n",
       "0  2000   Sindh         1.4  NaN\n",
       "1  2001   Sindh         1.5  NaN\n",
       "2  2002   Sindh         1.8  NaN\n",
       "3  2000  Punjab         1.0  NaN\n",
       "4  2001  Punjab         1.9  NaN\n",
       "5  2002  Punjab         2.0  NaN"
      ]
     },
     "execution_count": 15,
     "metadata": {},
     "output_type": "execute_result"
    }
   ],
   "source": [
    "PopulationFrame = pd.DataFrame(population_data, columns = ['Year', 'State', 'Population', 'Debt'])\n",
    "\n",
    "PopulationFrame"
   ]
  },
  {
   "cell_type": "code",
   "execution_count": 16,
   "id": "285b8692",
   "metadata": {},
   "outputs": [
    {
     "data": {
      "text/plain": [
       "Index(['Year', 'State', 'Population', 'Debt'], dtype='object')"
      ]
     },
     "execution_count": 16,
     "metadata": {},
     "output_type": "execute_result"
    }
   ],
   "source": [
    "PopulationFrame.columns"
   ]
  },
  {
   "cell_type": "code",
   "execution_count": 17,
   "id": "49b89637",
   "metadata": {},
   "outputs": [
    {
     "data": {
      "text/plain": [
       "RangeIndex(start=0, stop=6, step=1)"
      ]
     },
     "execution_count": 17,
     "metadata": {},
     "output_type": "execute_result"
    }
   ],
   "source": [
    "PopulationFrame.index"
   ]
  },
  {
   "cell_type": "code",
   "execution_count": 43,
   "id": "621f2714",
   "metadata": {},
   "outputs": [
    {
     "data": {
      "text/html": [
       "<div>\n",
       "<style scoped>\n",
       "    .dataframe tbody tr th:only-of-type {\n",
       "        vertical-align: middle;\n",
       "    }\n",
       "\n",
       "    .dataframe tbody tr th {\n",
       "        vertical-align: top;\n",
       "    }\n",
       "\n",
       "    .dataframe thead th {\n",
       "        text-align: right;\n",
       "    }\n",
       "</style>\n",
       "<table border=\"1\" class=\"dataframe\">\n",
       "  <thead>\n",
       "    <tr style=\"text-align: right;\">\n",
       "      <th></th>\n",
       "      <th>Year</th>\n",
       "      <th>State</th>\n",
       "      <th>Population</th>\n",
       "      <th>Debt</th>\n",
       "    </tr>\n",
       "  </thead>\n",
       "  <tbody>\n",
       "    <tr>\n",
       "      <th>one</th>\n",
       "      <td>2000</td>\n",
       "      <td>Sindh</td>\n",
       "      <td>1.4</td>\n",
       "      <td>NaN</td>\n",
       "    </tr>\n",
       "    <tr>\n",
       "      <th>two</th>\n",
       "      <td>2001</td>\n",
       "      <td>Sindh</td>\n",
       "      <td>1.5</td>\n",
       "      <td>NaN</td>\n",
       "    </tr>\n",
       "    <tr>\n",
       "      <th>three</th>\n",
       "      <td>2002</td>\n",
       "      <td>Sindh</td>\n",
       "      <td>1.8</td>\n",
       "      <td>NaN</td>\n",
       "    </tr>\n",
       "    <tr>\n",
       "      <th>four</th>\n",
       "      <td>2000</td>\n",
       "      <td>Punjab</td>\n",
       "      <td>1.0</td>\n",
       "      <td>NaN</td>\n",
       "    </tr>\n",
       "    <tr>\n",
       "      <th>five</th>\n",
       "      <td>2001</td>\n",
       "      <td>Punjab</td>\n",
       "      <td>1.9</td>\n",
       "      <td>NaN</td>\n",
       "    </tr>\n",
       "    <tr>\n",
       "      <th>six</th>\n",
       "      <td>2002</td>\n",
       "      <td>Punjab</td>\n",
       "      <td>2.0</td>\n",
       "      <td>NaN</td>\n",
       "    </tr>\n",
       "  </tbody>\n",
       "</table>\n",
       "</div>"
      ],
      "text/plain": [
       "       Year   State  Population Debt\n",
       "one    2000   Sindh         1.4  NaN\n",
       "two    2001   Sindh         1.5  NaN\n",
       "three  2002   Sindh         1.8  NaN\n",
       "four   2000  Punjab         1.0  NaN\n",
       "five   2001  Punjab         1.9  NaN\n",
       "six    2002  Punjab         2.0  NaN"
      ]
     },
     "execution_count": 43,
     "metadata": {},
     "output_type": "execute_result"
    }
   ],
   "source": [
    "# Custom Indexes\n",
    "PopulationFrame2 = pd.DataFrame(population_data, columns = ['Year', 'State', 'Population', 'Debt'], index = ['one', 'two', 'three', 'four', 'five', 'six'])\n",
    "\n",
    "PopulationFrame2"
   ]
  },
  {
   "cell_type": "code",
   "execution_count": 21,
   "id": "8e98b400",
   "metadata": {},
   "outputs": [
    {
     "data": {
      "text/plain": [
       "Index(['one', 'two', 'three', 'four', 'five', 'six'], dtype='object')"
      ]
     },
     "execution_count": 21,
     "metadata": {},
     "output_type": "execute_result"
    }
   ],
   "source": [
    "PopulationFrame2.index"
   ]
  },
  {
   "cell_type": "markdown",
   "id": "cb330718",
   "metadata": {},
   "source": [
    "# Retrieving Data from DataFrame"
   ]
  },
  {
   "cell_type": "markdown",
   "id": "90df2d83",
   "metadata": {},
   "source": [
    "A Column in a DataFrame can be Retrieved as a Series either by Dictionary-like Notation or by Attribute"
   ]
  },
  {
   "cell_type": "code",
   "execution_count": 27,
   "id": "9b93e1cf",
   "metadata": {},
   "outputs": [
    {
     "data": {
      "text/plain": [
       "one      2000\n",
       "two      2001\n",
       "three    2002\n",
       "four     2000\n",
       "five     2001\n",
       "six      2002\n",
       "Name: Year, dtype: int64"
      ]
     },
     "execution_count": 27,
     "metadata": {},
     "output_type": "execute_result"
    }
   ],
   "source": [
    "# Dictionary-like Notation\n",
    "population_data['State']\n",
    "PopulationFrame2['Year']"
   ]
  },
  {
   "cell_type": "code",
   "execution_count": 28,
   "id": "3de7fb03",
   "metadata": {},
   "outputs": [
    {
     "data": {
      "text/plain": [
       "one      2000\n",
       "two      2001\n",
       "three    2002\n",
       "four     2000\n",
       "five     2001\n",
       "six      2002\n",
       "Name: Year, dtype: int64"
      ]
     },
     "execution_count": 28,
     "metadata": {},
     "output_type": "execute_result"
    }
   ],
   "source": [
    "# Attribute-like Notation\n",
    "# Reference: Attribute same like accessing an attribute(variable) of a Class \n",
    "PopulationFrame2.Year"
   ]
  },
  {
   "cell_type": "code",
   "execution_count": 29,
   "id": "49a92d92",
   "metadata": {},
   "outputs": [
    {
     "data": {
      "text/plain": [
       "2000"
      ]
     },
     "execution_count": 29,
     "metadata": {},
     "output_type": "execute_result"
    }
   ],
   "source": [
    "# Retrieving Data from a specific index of a Specified Column\n",
    "PopulationFrame2.Year['one']"
   ]
  },
  {
   "cell_type": "code",
   "execution_count": 30,
   "id": "8769b2bb",
   "metadata": {},
   "outputs": [
    {
     "data": {
      "text/plain": [
       "Year           2000\n",
       "State         Sindh\n",
       "Population      1.4\n",
       "Debt            NaN\n",
       "Name: one, dtype: object"
      ]
     },
     "execution_count": 30,
     "metadata": {},
     "output_type": "execute_result"
    }
   ],
   "source": [
    "# Retrieving Data from Index by using loc Method\n",
    "PopulationFrame2.loc['one']"
   ]
  },
  {
   "cell_type": "code",
   "execution_count": 31,
   "id": "54e4f76a",
   "metadata": {},
   "outputs": [
    {
     "data": {
      "text/plain": [
       "2000"
      ]
     },
     "execution_count": 31,
     "metadata": {},
     "output_type": "execute_result"
    }
   ],
   "source": [
    "# Retrieving Data from Nested Index by using loc Method\n",
    "PopulationFrame2.loc['one']['Year']"
   ]
  },
  {
   "cell_type": "code",
   "execution_count": 2,
   "id": "c27cd8f8",
   "metadata": {},
   "outputs": [],
   "source": [
    "import numpy as np"
   ]
  },
  {
   "cell_type": "markdown",
   "id": "7b21dc9b",
   "metadata": {},
   "source": [
    "Columns can be modified by assigning values, for example: the empty 'Debt' Column could be assigned a scalar value or an array of values"
   ]
  },
  {
   "cell_type": "code",
   "execution_count": 36,
   "id": "73ebc5bb",
   "metadata": {},
   "outputs": [
    {
     "data": {
      "text/html": [
       "<div>\n",
       "<style scoped>\n",
       "    .dataframe tbody tr th:only-of-type {\n",
       "        vertical-align: middle;\n",
       "    }\n",
       "\n",
       "    .dataframe tbody tr th {\n",
       "        vertical-align: top;\n",
       "    }\n",
       "\n",
       "    .dataframe thead th {\n",
       "        text-align: right;\n",
       "    }\n",
       "</style>\n",
       "<table border=\"1\" class=\"dataframe\">\n",
       "  <thead>\n",
       "    <tr style=\"text-align: right;\">\n",
       "      <th></th>\n",
       "      <th>Year</th>\n",
       "      <th>State</th>\n",
       "      <th>Population</th>\n",
       "      <th>Debt</th>\n",
       "    </tr>\n",
       "  </thead>\n",
       "  <tbody>\n",
       "    <tr>\n",
       "      <th>one</th>\n",
       "      <td>2000</td>\n",
       "      <td>Sindh</td>\n",
       "      <td>1.4</td>\n",
       "      <td>16.2</td>\n",
       "    </tr>\n",
       "    <tr>\n",
       "      <th>two</th>\n",
       "      <td>2001</td>\n",
       "      <td>Sindh</td>\n",
       "      <td>1.5</td>\n",
       "      <td>16.2</td>\n",
       "    </tr>\n",
       "    <tr>\n",
       "      <th>three</th>\n",
       "      <td>2002</td>\n",
       "      <td>Sindh</td>\n",
       "      <td>1.8</td>\n",
       "      <td>16.2</td>\n",
       "    </tr>\n",
       "    <tr>\n",
       "      <th>four</th>\n",
       "      <td>2000</td>\n",
       "      <td>Punjab</td>\n",
       "      <td>1.0</td>\n",
       "      <td>16.2</td>\n",
       "    </tr>\n",
       "    <tr>\n",
       "      <th>five</th>\n",
       "      <td>2001</td>\n",
       "      <td>Punjab</td>\n",
       "      <td>1.9</td>\n",
       "      <td>16.2</td>\n",
       "    </tr>\n",
       "    <tr>\n",
       "      <th>six</th>\n",
       "      <td>2002</td>\n",
       "      <td>Punjab</td>\n",
       "      <td>2.0</td>\n",
       "      <td>16.2</td>\n",
       "    </tr>\n",
       "  </tbody>\n",
       "</table>\n",
       "</div>"
      ],
      "text/plain": [
       "       Year   State  Population  Debt\n",
       "one    2000   Sindh         1.4  16.2\n",
       "two    2001   Sindh         1.5  16.2\n",
       "three  2002   Sindh         1.8  16.2\n",
       "four   2000  Punjab         1.0  16.2\n",
       "five   2001  Punjab         1.9  16.2\n",
       "six    2002  Punjab         2.0  16.2"
      ]
     },
     "execution_count": 36,
     "metadata": {},
     "output_type": "execute_result"
    }
   ],
   "source": [
    "# Assigning Scalar Value\n",
    "PopulationFrame2.Debt = 16.2\n",
    "PopulationFrame2"
   ]
  },
  {
   "cell_type": "code",
   "execution_count": 35,
   "id": "314ec9f1",
   "metadata": {},
   "outputs": [
    {
     "data": {
      "text/html": [
       "<div>\n",
       "<style scoped>\n",
       "    .dataframe tbody tr th:only-of-type {\n",
       "        vertical-align: middle;\n",
       "    }\n",
       "\n",
       "    .dataframe tbody tr th {\n",
       "        vertical-align: top;\n",
       "    }\n",
       "\n",
       "    .dataframe thead th {\n",
       "        text-align: right;\n",
       "    }\n",
       "</style>\n",
       "<table border=\"1\" class=\"dataframe\">\n",
       "  <thead>\n",
       "    <tr style=\"text-align: right;\">\n",
       "      <th></th>\n",
       "      <th>Year</th>\n",
       "      <th>State</th>\n",
       "      <th>Population</th>\n",
       "      <th>Debt</th>\n",
       "    </tr>\n",
       "  </thead>\n",
       "  <tbody>\n",
       "    <tr>\n",
       "      <th>one</th>\n",
       "      <td>2000</td>\n",
       "      <td>Sindh</td>\n",
       "      <td>1.4</td>\n",
       "      <td>0</td>\n",
       "    </tr>\n",
       "    <tr>\n",
       "      <th>two</th>\n",
       "      <td>2001</td>\n",
       "      <td>Sindh</td>\n",
       "      <td>1.5</td>\n",
       "      <td>1</td>\n",
       "    </tr>\n",
       "    <tr>\n",
       "      <th>three</th>\n",
       "      <td>2002</td>\n",
       "      <td>Sindh</td>\n",
       "      <td>1.8</td>\n",
       "      <td>2</td>\n",
       "    </tr>\n",
       "    <tr>\n",
       "      <th>four</th>\n",
       "      <td>2000</td>\n",
       "      <td>Punjab</td>\n",
       "      <td>1.0</td>\n",
       "      <td>3</td>\n",
       "    </tr>\n",
       "    <tr>\n",
       "      <th>five</th>\n",
       "      <td>2001</td>\n",
       "      <td>Punjab</td>\n",
       "      <td>1.9</td>\n",
       "      <td>4</td>\n",
       "    </tr>\n",
       "    <tr>\n",
       "      <th>six</th>\n",
       "      <td>2002</td>\n",
       "      <td>Punjab</td>\n",
       "      <td>2.0</td>\n",
       "      <td>5</td>\n",
       "    </tr>\n",
       "  </tbody>\n",
       "</table>\n",
       "</div>"
      ],
      "text/plain": [
       "       Year   State  Population  Debt\n",
       "one    2000   Sindh         1.4     0\n",
       "two    2001   Sindh         1.5     1\n",
       "three  2002   Sindh         1.8     2\n",
       "four   2000  Punjab         1.0     3\n",
       "five   2001  Punjab         1.9     4\n",
       "six    2002  Punjab         2.0     5"
      ]
     },
     "execution_count": 35,
     "metadata": {},
     "output_type": "execute_result"
    }
   ],
   "source": [
    "# Assigning Array Values\n",
    "ln = len(PopulationFrame2) # Finding number of rows of a DataFrame\n",
    "rng = np.arange(ln)\n",
    "PopulationFrame2['Debt'] = rng\n",
    "PopulationFrame2"
   ]
  },
  {
   "cell_type": "code",
   "execution_count": 44,
   "id": "7cf5bea2",
   "metadata": {},
   "outputs": [
    {
     "data": {
      "text/html": [
       "<div>\n",
       "<style scoped>\n",
       "    .dataframe tbody tr th:only-of-type {\n",
       "        vertical-align: middle;\n",
       "    }\n",
       "\n",
       "    .dataframe tbody tr th {\n",
       "        vertical-align: top;\n",
       "    }\n",
       "\n",
       "    .dataframe thead th {\n",
       "        text-align: right;\n",
       "    }\n",
       "</style>\n",
       "<table border=\"1\" class=\"dataframe\">\n",
       "  <thead>\n",
       "    <tr style=\"text-align: right;\">\n",
       "      <th></th>\n",
       "      <th>Year</th>\n",
       "      <th>State</th>\n",
       "      <th>Population</th>\n",
       "      <th>Debt</th>\n",
       "    </tr>\n",
       "  </thead>\n",
       "  <tbody>\n",
       "    <tr>\n",
       "      <th>one</th>\n",
       "      <td>2000</td>\n",
       "      <td>Sindh</td>\n",
       "      <td>1.4</td>\n",
       "      <td>NaN</td>\n",
       "    </tr>\n",
       "    <tr>\n",
       "      <th>two</th>\n",
       "      <td>2001</td>\n",
       "      <td>Sindh</td>\n",
       "      <td>1.5</td>\n",
       "      <td>125.0</td>\n",
       "    </tr>\n",
       "    <tr>\n",
       "      <th>three</th>\n",
       "      <td>2002</td>\n",
       "      <td>Sindh</td>\n",
       "      <td>1.8</td>\n",
       "      <td>135.0</td>\n",
       "    </tr>\n",
       "    <tr>\n",
       "      <th>four</th>\n",
       "      <td>2000</td>\n",
       "      <td>Punjab</td>\n",
       "      <td>1.0</td>\n",
       "      <td>145.0</td>\n",
       "    </tr>\n",
       "    <tr>\n",
       "      <th>five</th>\n",
       "      <td>2001</td>\n",
       "      <td>Punjab</td>\n",
       "      <td>1.9</td>\n",
       "      <td>155.0</td>\n",
       "    </tr>\n",
       "    <tr>\n",
       "      <th>six</th>\n",
       "      <td>2002</td>\n",
       "      <td>Punjab</td>\n",
       "      <td>2.0</td>\n",
       "      <td>165.0</td>\n",
       "    </tr>\n",
       "  </tbody>\n",
       "</table>\n",
       "</div>"
      ],
      "text/plain": [
       "       Year   State  Population   Debt\n",
       "one    2000   Sindh         1.4    NaN\n",
       "two    2001   Sindh         1.5  125.0\n",
       "three  2002   Sindh         1.8  135.0\n",
       "four   2000  Punjab         1.0  145.0\n",
       "five   2001  Punjab         1.9  155.0\n",
       "six    2002  Punjab         2.0  165.0"
      ]
     },
     "execution_count": 44,
     "metadata": {},
     "output_type": "execute_result"
    }
   ],
   "source": [
    "# Assigning Values with Index Specification\n",
    "Dept_newData = pd.Series([12, 125, 135, 145, 155, 165], index=['zero', 'two', 'three', 'four', 'five', 'six'])\n",
    "PopulationFrame2.Debt = Dept_newData\n",
    "PopulationFrame2"
   ]
  },
  {
   "cell_type": "markdown",
   "id": "896be3ff",
   "metadata": {},
   "source": [
    "# Function Application and Mapping"
   ]
  },
  {
   "cell_type": "code",
   "execution_count": 5,
   "id": "d0fb5fa9",
   "metadata": {},
   "outputs": [
    {
     "data": {
      "text/html": [
       "<div>\n",
       "<style scoped>\n",
       "    .dataframe tbody tr th:only-of-type {\n",
       "        vertical-align: middle;\n",
       "    }\n",
       "\n",
       "    .dataframe tbody tr th {\n",
       "        vertical-align: top;\n",
       "    }\n",
       "\n",
       "    .dataframe thead th {\n",
       "        text-align: right;\n",
       "    }\n",
       "</style>\n",
       "<table border=\"1\" class=\"dataframe\">\n",
       "  <thead>\n",
       "    <tr style=\"text-align: right;\">\n",
       "      <th></th>\n",
       "      <th>b</th>\n",
       "      <th>d</th>\n",
       "      <th>e</th>\n",
       "    </tr>\n",
       "  </thead>\n",
       "  <tbody>\n",
       "    <tr>\n",
       "      <th>Utah</th>\n",
       "      <td>1.259804</td>\n",
       "      <td>-1.334024</td>\n",
       "      <td>-0.529695</td>\n",
       "    </tr>\n",
       "    <tr>\n",
       "      <th>Ohio</th>\n",
       "      <td>-0.839935</td>\n",
       "      <td>1.062360</td>\n",
       "      <td>-1.151432</td>\n",
       "    </tr>\n",
       "    <tr>\n",
       "      <th>Texas</th>\n",
       "      <td>-0.131220</td>\n",
       "      <td>0.110397</td>\n",
       "      <td>-2.903297</td>\n",
       "    </tr>\n",
       "    <tr>\n",
       "      <th>Oregon</th>\n",
       "      <td>-0.040882</td>\n",
       "      <td>-0.998674</td>\n",
       "      <td>0.724086</td>\n",
       "    </tr>\n",
       "  </tbody>\n",
       "</table>\n",
       "</div>"
      ],
      "text/plain": [
       "               b         d         e\n",
       "Utah    1.259804 -1.334024 -0.529695\n",
       "Ohio   -0.839935  1.062360 -1.151432\n",
       "Texas  -0.131220  0.110397 -2.903297\n",
       "Oregon -0.040882 -0.998674  0.724086"
      ]
     },
     "execution_count": 5,
     "metadata": {},
     "output_type": "execute_result"
    }
   ],
   "source": [
    "# Creating DataFrame consist of Random Numbers Generated by Numpy, Columns generated by Python List named `bde` & Index by Array:\n",
    "frame_df = pd.DataFrame(np.random.randn(4, 3), columns = list('bde'), index = ['Utah', 'Ohio', 'Texas', 'Oregon'])\n",
    "frame_df"
   ]
  },
  {
   "cell_type": "code",
   "execution_count": 6,
   "id": "6630f247",
   "metadata": {},
   "outputs": [
    {
     "data": {
      "text/html": [
       "<div>\n",
       "<style scoped>\n",
       "    .dataframe tbody tr th:only-of-type {\n",
       "        vertical-align: middle;\n",
       "    }\n",
       "\n",
       "    .dataframe tbody tr th {\n",
       "        vertical-align: top;\n",
       "    }\n",
       "\n",
       "    .dataframe thead th {\n",
       "        text-align: right;\n",
       "    }\n",
       "</style>\n",
       "<table border=\"1\" class=\"dataframe\">\n",
       "  <thead>\n",
       "    <tr style=\"text-align: right;\">\n",
       "      <th></th>\n",
       "      <th>b</th>\n",
       "      <th>d</th>\n",
       "      <th>e</th>\n",
       "    </tr>\n",
       "  </thead>\n",
       "  <tbody>\n",
       "    <tr>\n",
       "      <th>Utah</th>\n",
       "      <td>1.259804</td>\n",
       "      <td>1.334024</td>\n",
       "      <td>0.529695</td>\n",
       "    </tr>\n",
       "    <tr>\n",
       "      <th>Ohio</th>\n",
       "      <td>0.839935</td>\n",
       "      <td>1.062360</td>\n",
       "      <td>1.151432</td>\n",
       "    </tr>\n",
       "    <tr>\n",
       "      <th>Texas</th>\n",
       "      <td>0.131220</td>\n",
       "      <td>0.110397</td>\n",
       "      <td>2.903297</td>\n",
       "    </tr>\n",
       "    <tr>\n",
       "      <th>Oregon</th>\n",
       "      <td>0.040882</td>\n",
       "      <td>0.998674</td>\n",
       "      <td>0.724086</td>\n",
       "    </tr>\n",
       "  </tbody>\n",
       "</table>\n",
       "</div>"
      ],
      "text/plain": [
       "               b         d         e\n",
       "Utah    1.259804  1.334024  0.529695\n",
       "Ohio    0.839935  1.062360  1.151432\n",
       "Texas   0.131220  0.110397  2.903297\n",
       "Oregon  0.040882  0.998674  0.724086"
      ]
     },
     "execution_count": 6,
     "metadata": {},
     "output_type": "execute_result"
    }
   ],
   "source": [
    "# Using `abs` means Absolute built-in method of Numpy to convert all negative numbers to positive\n",
    "np.abs(frame_df)"
   ]
  },
  {
   "cell_type": "code",
   "execution_count": 7,
   "id": "0cd4fc79",
   "metadata": {},
   "outputs": [
    {
     "data": {
      "text/plain": [
       "-1.3340235711329866"
      ]
     },
     "execution_count": 7,
     "metadata": {},
     "output_type": "execute_result"
    }
   ],
   "source": [
    "# Getting Minimum value of Column `d` from DataFrame using `min` Method of Pandas:\n",
    "frame_df['d'].min()"
   ]
  },
  {
   "cell_type": "code",
   "execution_count": 8,
   "id": "bd1ccdfb",
   "metadata": {},
   "outputs": [
    {
     "data": {
      "text/plain": [
       "1.062359801308751"
      ]
     },
     "execution_count": 8,
     "metadata": {},
     "output_type": "execute_result"
    }
   ],
   "source": [
    "# Getting Maximum value of Column `d` from DataFrame using `max` Method of Pandas:\n",
    "frame_df['d'].max()"
   ]
  },
  {
   "cell_type": "code",
   "execution_count": 9,
   "id": "9c07bbd0",
   "metadata": {},
   "outputs": [
    {
     "data": {
      "text/plain": [
       "2.3963833724417376"
      ]
     },
     "execution_count": 9,
     "metadata": {},
     "output_type": "execute_result"
    }
   ],
   "source": [
    "# Getting Calulated Result (max - min):\n",
    "frame_df['d'].max() - frame_df['d'].min()"
   ]
  },
  {
   "cell_type": "code",
   "execution_count": 10,
   "id": "e7102d75",
   "metadata": {},
   "outputs": [],
   "source": [
    "# This is a way to write anonymous singl-line user defined function's in Python and save result in a variable\n",
    "# The Keyword `Lambda` is used for anonymous function in Python we can use this Keyword where we don't want to declare anonymous\n",
    "#         function\n",
    "# where `x` is used to store every single value iteratedly from the DataFrame/any other Data Source or make Calculation on it, \n",
    "#         in-short acts same as `this` keyword in JS or PHP\n",
    "f = lambda x: x.max() - x.min()"
   ]
  },
  {
   "cell_type": "code",
   "execution_count": 12,
   "id": "2e90c454",
   "metadata": {},
   "outputs": [
    {
     "name": "stdout",
     "output_type": "stream",
     "text": [
      "b    2.099740\n",
      "d    2.396383\n",
      "e    3.627384\n",
      "dtype: float64 <class 'pandas.core.series.Series'>\n"
     ]
    }
   ],
   "source": [
    "# we are applying that Function on DataFrame\n",
    "# This will Save Result in Series because it is in 1x1 dimension 1 column and 1 row other wise it will Store in the form of\n",
    "#         DataFrame\n",
    "# By Default this user-defined Function make calculation column wise\n",
    "df_func = frame_df.apply(f)\n",
    "print(df_func, type(df_func))"
   ]
  },
  {
   "cell_type": "code",
   "execution_count": 13,
   "id": "882d5a74",
   "metadata": {},
   "outputs": [
    {
     "name": "stdout",
     "output_type": "stream",
     "text": [
      "Utah      2.593828\n",
      "Ohio      2.213792\n",
      "Texas     3.013695\n",
      "Oregon    1.722761\n",
      "dtype: float64 <class 'pandas.core.series.Series'>\n"
     ]
    }
   ],
   "source": [
    "# if we want this user-defined function to make calculation row wise, we have to specify axis as specified in below code:\n",
    "# axis = 0 : column wise (by default)\n",
    "# axis = 1 : row wise\n",
    "df_func1 = frame_df.apply(f, axis=1)\n",
    "print(df_func1, type(df_func1))"
   ]
  },
  {
   "cell_type": "code",
   "execution_count": 15,
   "id": "cd6d80d1",
   "metadata": {},
   "outputs": [],
   "source": [
    "# Python Normal Named Function:\n",
    "def min_max(x):\n",
    "    minimum = x.min()\n",
    "    maximum = x.max()\n",
    "    return pd.Series([minimum, maximum], index = ['min', 'max'])"
   ]
  },
  {
   "cell_type": "code",
   "execution_count": 16,
   "id": "9aea8367",
   "metadata": {},
   "outputs": [
    {
     "name": "stdout",
     "output_type": "stream",
     "text": [
      "            b         d         e\n",
      "min -0.839935 -1.334024 -2.903297\n",
      "max  1.259804  1.062360  0.724086 <class 'pandas.core.frame.DataFrame'>\n"
     ]
    }
   ],
   "source": [
    "# This user-defined named function will return DataFrame instead of Series beacouse it's dimension is not 1x1\n",
    "df_func_norm = frame_df.apply(min_max)\n",
    "print(df_func_norm, type(df_func_norm))"
   ]
  },
  {
   "cell_type": "code",
   "execution_count": null,
   "id": "faed639a",
   "metadata": {},
   "outputs": [],
   "source": [
    "# Resume from part#2 @1:45"
   ]
  }
 ],
 "metadata": {
  "kernelspec": {
   "display_name": "Python 3 (ipykernel)",
   "language": "python",
   "name": "python3"
  },
  "language_info": {
   "codemirror_mode": {
    "name": "ipython",
    "version": 3
   },
   "file_extension": ".py",
   "mimetype": "text/x-python",
   "name": "python",
   "nbconvert_exporter": "python",
   "pygments_lexer": "ipython3",
   "version": "3.9.7"
  }
 },
 "nbformat": 4,
 "nbformat_minor": 5
}
